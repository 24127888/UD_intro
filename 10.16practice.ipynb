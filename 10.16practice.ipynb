{
 "cells": [
  {
   "cell_type": "code",
   "execution_count": 56,
   "id": "3b505a7f-6f9c-489f-b425-c901cb0bae62",
   "metadata": {},
   "outputs": [
    {
     "name": "stdout",
     "output_type": "stream",
     "text": [
      "Introduction to Programming\n"
     ]
    }
   ],
   "source": [
    "print('Introduction to Programming')"
   ]
  },
  {
   "cell_type": "code",
   "execution_count": 55,
   "id": "541c6717-82a2-4e9d-81a7-7a0f42f44280",
   "metadata": {},
   "outputs": [
    {
     "name": "stdout",
     "output_type": "stream",
     "text": [
      "Hello World!\n"
     ]
    }
   ],
   "source": [
    "print('Hello World!')"
   ]
  },
  {
   "cell_type": "code",
   "execution_count": 36,
   "id": "c5ea1c27-a956-414f-a056-fc1a773e7576",
   "metadata": {},
   "outputs": [
    {
     "name": "stdout",
     "output_type": "stream",
     "text": [
      "YIMENGSUN\n"
     ]
    }
   ],
   "source": [
    "myName = 'YIMENGSUN'\n",
    "print(myName)"
   ]
  },
  {
   "cell_type": "code",
   "execution_count": 37,
   "id": "057c8353-605f-412c-ba86-1abbc070dcfc",
   "metadata": {},
   "outputs": [
    {
     "name": "stdout",
     "output_type": "stream",
     "text": [
      "yimeng.sun.24@ucl.ac.uk\n"
     ]
    }
   ],
   "source": [
    "myEmail = 'yimeng.sun.24@ucl.ac.uk'\n",
    "print(myEmail)"
   ]
  },
  {
   "cell_type": "code",
   "execution_count": 38,
   "id": "28e6d906-4bc6-465e-9120-a0f2961ad502",
   "metadata": {},
   "outputs": [
    {
     "name": "stdout",
     "output_type": "stream",
     "text": [
      "18\n"
     ]
    }
   ],
   "source": [
    "myAge = '18'\n",
    "print(myAge)"
   ]
  },
  {
   "cell_type": "code",
   "execution_count": 41,
   "id": "3df22bc7-600d-4fd9-8a6e-cadb93ca60c0",
   "metadata": {},
   "outputs": [
    {
     "name": "stdout",
     "output_type": "stream",
     "text": [
      "YIMENGSUN  yimeng.sun.24@ucl.ac.uk  18\n"
     ]
    }
   ],
   "source": [
    "print(myName,'',myEmail,'',myAge)"
   ]
  },
  {
   "cell_type": "code",
   "execution_count": 44,
   "id": "734b4d7d-fb65-4ffd-b157-919462847a1f",
   "metadata": {},
   "outputs": [
    {
     "name": "stdout",
     "output_type": "stream",
     "text": [
      "YIMENG\n",
      "SUN\n"
     ]
    }
   ],
   "source": [
    "print('YIMENG\\nSUN')"
   ]
  },
  {
   "cell_type": "code",
   "execution_count": 45,
   "id": "f0c7be5c-fc97-442e-bff2-353e83f62ea4",
   "metadata": {},
   "outputs": [
    {
     "name": "stdout",
     "output_type": "stream",
     "text": [
      "YIMENG\\nSUN\n"
     ]
    }
   ],
   "source": [
    "print(r'YIMENG\\nSUN')"
   ]
  },
  {
   "cell_type": "code",
   "execution_count": 46,
   "id": "c79e95ef-2435-46c0-a1a1-f5c797a36dc0",
   "metadata": {},
   "outputs": [
    {
     "data": {
      "text/plain": [
       "0.0"
      ]
     },
     "execution_count": 46,
     "metadata": {},
     "output_type": "execute_result"
    }
   ],
   "source": [
    "0/49"
   ]
  },
  {
   "cell_type": "code",
   "execution_count": 47,
   "id": "955d2bc8-c620-44af-930f-098e4d802546",
   "metadata": {},
   "outputs": [
    {
     "data": {
      "text/plain": [
       "3.63265306122449"
      ]
     },
     "execution_count": 47,
     "metadata": {},
     "output_type": "execute_result"
    }
   ],
   "source": [
    "178/49"
   ]
  },
  {
   "cell_type": "code",
   "execution_count": 48,
   "id": "03541f6b-cbf0-411e-a30f-b647a277a2b5",
   "metadata": {},
   "outputs": [
    {
     "data": {
      "text/plain": [
       "-0.42857142857142855"
      ]
     },
     "execution_count": 48,
     "metadata": {},
     "output_type": "execute_result"
    }
   ],
   "source": [
    "-21/49"
   ]
  },
  {
   "cell_type": "code",
   "execution_count": 49,
   "id": "dba16233-c586-410c-bfac-eb10e39e4e4e",
   "metadata": {},
   "outputs": [
    {
     "data": {
      "text/plain": [
       "59.95918367346939"
      ]
     },
     "execution_count": 49,
     "metadata": {},
     "output_type": "execute_result"
    }
   ],
   "source": [
    "2938/49"
   ]
  },
  {
   "cell_type": "code",
   "execution_count": 50,
   "id": "863bdb2b-0607-4207-a006-b60e0f8cade2",
   "metadata": {},
   "outputs": [
    {
     "data": {
      "text/plain": [
       "4337328"
      ]
     },
     "execution_count": 50,
     "metadata": {},
     "output_type": "execute_result"
    }
   ],
   "source": [
    "436*9948"
   ]
  },
  {
   "cell_type": "code",
   "execution_count": 51,
   "id": "39fabea5-b877-49bb-ae35-9816a70b9aa1",
   "metadata": {},
   "outputs": [
    {
     "data": {
      "text/plain": [
       "False"
      ]
     },
     "execution_count": 51,
     "metadata": {},
     "output_type": "execute_result"
    }
   ],
   "source": [
    "12==20"
   ]
  },
  {
   "cell_type": "code",
   "execution_count": 57,
   "id": "624c9f6e-fba3-41ca-8378-7ea44528be06",
   "metadata": {},
   "outputs": [
    {
     "data": {
      "text/plain": [
       "3.141592653589793"
      ]
     },
     "execution_count": 57,
     "metadata": {},
     "output_type": "execute_result"
    }
   ],
   "source": [
    "import math\n",
    "math.pi"
   ]
  },
  {
   "cell_type": "code",
   "execution_count": 59,
   "id": "ee73132f-fd73-44c3-9ebe-197f791dc6db",
   "metadata": {},
   "outputs": [
    {
     "data": {
      "text/plain": [
       "0.08839871248753149"
      ]
     },
     "execution_count": 59,
     "metadata": {},
     "output_type": "execute_result"
    }
   ],
   "source": [
    "math.sin(220)"
   ]
  },
  {
   "cell_type": "code",
   "execution_count": 60,
   "id": "549da1ce-563e-4536-b8a5-5d56730cde1e",
   "metadata": {},
   "outputs": [
    {
     "data": {
      "text/plain": [
       "0.8623188722876839"
      ]
     },
     "execution_count": 60,
     "metadata": {},
     "output_type": "execute_result"
    }
   ],
   "source": [
    "math.cos(100)"
   ]
  },
  {
   "cell_type": "code",
   "execution_count": 61,
   "id": "b96329a2-6e97-4b86-9b7e-adf4cbc41f24",
   "metadata": {},
   "outputs": [
    {
     "data": {
      "text/plain": [
       "0.9999999999999999"
      ]
     },
     "execution_count": 61,
     "metadata": {},
     "output_type": "execute_result"
    }
   ],
   "source": [
    "math.tan(math.pi/4)"
   ]
  },
  {
   "cell_type": "code",
   "execution_count": 62,
   "id": "e694deec-f03d-4850-b79f-697d9b4c709f",
   "metadata": {},
   "outputs": [
    {
     "data": {
      "text/plain": [
       "1.0"
      ]
     },
     "execution_count": 62,
     "metadata": {},
     "output_type": "execute_result"
    }
   ],
   "source": [
    "math.sin(math.radians(90))"
   ]
  },
  {
   "cell_type": "code",
   "execution_count": 64,
   "id": "e00d1949-382b-4d6b-a4b6-96a2a9f3b2f4",
   "metadata": {},
   "outputs": [
    {
     "name": "stdout",
     "output_type": "stream",
     "text": [
      "YIMENG SUN\n"
     ]
    }
   ],
   "source": [
    "firstname = 'YIMENG'\n",
    "lastname = 'SUN'\n",
    "phrase = firstname + ' ' + lastname\n",
    "print(phrase)"
   ]
  },
  {
   "cell_type": "code",
   "execution_count": 72,
   "id": "f1337f25-4650-4246-aaa9-baf90ef644ae",
   "metadata": {},
   "outputs": [
    {
     "name": "stdout",
     "output_type": "stream",
     "text": [
      "number 1 is a positive number\n"
     ]
    }
   ],
   "source": [
    "n1 =int(123456)\n",
    "n2 = 0\n",
    "if(n1 > n2):\n",
    "  print('number 1 is a positive number')\n",
    "elif(n1 < n2):\n",
    "  print('number 1 is a negative number')\n",
    "else:\n",
    "  print('number 1 = 0')"
   ]
  },
  {
   "cell_type": "code",
   "execution_count": 75,
   "id": "362a542b-e0b0-4d68-b2a2-a90292b5eb2b",
   "metadata": {},
   "outputs": [
    {
     "name": "stdin",
     "output_type": "stream",
     "text": [
      "Enter the lower limit of the guessing range:  3\n",
      "Enter the upper limit of the guessing range:  6\n",
      "Guess a number between 3 and 6:  4\n"
     ]
    },
    {
     "name": "stdout",
     "output_type": "stream",
     "text": [
      "Too high! Try again.\n"
     ]
    },
    {
     "name": "stdin",
     "output_type": "stream",
     "text": [
      "Guess a number between 3 and 6:  3\n"
     ]
    },
    {
     "name": "stdout",
     "output_type": "stream",
     "text": [
      "Congratulations! You guessed the right number.\n",
      "You made 2 guesses.\n"
     ]
    }
   ],
   "source": [
    "import random\n",
    "lower_limit = int(input(\"Enter the lower limit of the guessing range: \"))\n",
    "upper_limit = int(input(\"Enter the upper limit of the guessing range: \"))\n",
    "random_number = random.randint(lower_limit, upper_limit)\n",
    "guess_count = 0\n",
    "while True:\n",
    "    guess_count += 1\n",
    "    guess = int(input(f\"Guess a number between {lower_limit} and {upper_limit}: \"))\n",
    "    if guess < random_number:\n",
    "        print(\"Too low! Try again.\")\n",
    "    elif guess > random_number:\n",
    "        print(\"Too high! Try again.\")\n",
    "    else:\n",
    "        print(\"Congratulations! You guessed the right number.\")\n",
    "        break\n",
    "print(f'You made {guess_count} guesses.')"
   ]
  },
  {
   "cell_type": "code",
   "execution_count": 80,
   "id": "a5d6d5cb-fa99-443a-a7d1-a560b165250e",
   "metadata": {},
   "outputs": [
    {
     "name": "stdin",
     "output_type": "stream",
     "text": [
      "Enter a sentence: hello world!\n"
     ]
    },
    {
     "name": "stdout",
     "output_type": "stream",
     "text": [
      "hello\n",
      "world!\n"
     ]
    }
   ],
   "source": [
    "sentence = input('Enter a sentence:')\n",
    "words = sentence.split()\n",
    "words_sorted = sorted(words)\n",
    "for output in words_sorted:\n",
    "    print(output)"
   ]
  },
  {
   "cell_type": "code",
   "execution_count": 95,
   "id": "ef584ac4-1271-4962-b2bd-31426661228e",
   "metadata": {},
   "outputs": [
    {
     "name": "stdin",
     "output_type": "stream",
     "text": [
      "Enter the height of the Christmas tree:  5\n"
     ]
    },
    {
     "name": "stdout",
     "output_type": "stream",
     "text": [
      "      *\n",
      "    ***\n",
      "   *****\n",
      "  *******\n",
      " *********\n",
      "    |\n",
      "\n"
     ]
    }
   ],
   "source": [
    "height = int(input('Enter the height of the Christmas tree: '))\n",
    "tree = ' '\n",
    "for i in range(height):\n",
    "    spaces = ' ' * (height-i)\n",
    "    stars = '*' * (2 * i + 1)\n",
    "    tree += spaces + stars +'\\n'\n",
    "trunk = \" \" * (height-1) + '|\\n'\n",
    "tree +=trunk\n",
    "print(tree)"
   ]
  },
  {
   "cell_type": "code",
   "execution_count": 96,
   "id": "59965e8d-89d9-473a-8e9a-12c0f167414b",
   "metadata": {},
   "outputs": [
    {
     "name": "stdin",
     "output_type": "stream",
     "text": [
      "Enter the number of padovan sequence terms to print 5\n"
     ]
    },
    {
     "name": "stdout",
     "output_type": "stream",
     "text": [
      "The first 5 terms of the Padovan sequence are:\n",
      "[1, 1, 1, 2, 2]\n"
     ]
    }
   ],
   "source": [
    "n = int(input('Enter the number of padovan sequence terms to print'))\n",
    "padovan_sequence = [1, 1, 1]\n",
    "for i in range(3, n):\n",
    "    next_term = padovan_sequence[i - 2] + padovan_sequence[i - 3]\n",
    "    padovan_sequence.append(next_term)\n",
    "print(\"The first\", n, \"terms of the Padovan sequence are:\")\n",
    "print(padovan_sequence[:n])"
   ]
  }
 ],
 "metadata": {
  "kernelspec": {
   "display_name": "Python 3 (ipykernel)",
   "language": "python",
   "name": "python3"
  },
  "language_info": {
   "codemirror_mode": {
    "name": "ipython",
    "version": 3
   },
   "file_extension": ".py",
   "mimetype": "text/x-python",
   "name": "python",
   "nbconvert_exporter": "python",
   "pygments_lexer": "ipython3",
   "version": "3.11.10"
  }
 },
 "nbformat": 4,
 "nbformat_minor": 5
}
